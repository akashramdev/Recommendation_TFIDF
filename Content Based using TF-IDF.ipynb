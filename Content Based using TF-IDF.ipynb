{
 "cells": [
  {
   "cell_type": "code",
   "execution_count": 1,
   "id": "9e293421",
   "metadata": {},
   "outputs": [],
   "source": [
    "import numpy as np\n",
    "import pandas as pd\n",
    "import matplotlib.pyplot as plt\n",
    "import seaborn as sns\n",
    "import os\n",
    "import sklearn"
   ]
  },
  {
   "cell_type": "code",
   "execution_count": 2,
   "id": "f3e63360",
   "metadata": {},
   "outputs": [],
   "source": [
    "df = pd.read_csv(\"cleaned.csv\")"
   ]
  },
  {
   "cell_type": "code",
   "execution_count": 3,
   "id": "fc1d5630",
   "metadata": {},
   "outputs": [
    {
     "data": {
      "text/html": [
       "<div>\n",
       "<style scoped>\n",
       "    .dataframe tbody tr th:only-of-type {\n",
       "        vertical-align: middle;\n",
       "    }\n",
       "\n",
       "    .dataframe tbody tr th {\n",
       "        vertical-align: top;\n",
       "    }\n",
       "\n",
       "    .dataframe thead th {\n",
       "        text-align: right;\n",
       "    }\n",
       "</style>\n",
       "<table border=\"1\" class=\"dataframe\">\n",
       "  <thead>\n",
       "    <tr style=\"text-align: right;\">\n",
       "      <th></th>\n",
       "      <th>userId</th>\n",
       "      <th>movieId</th>\n",
       "      <th>rating</th>\n",
       "      <th>timestamp</th>\n",
       "      <th>title</th>\n",
       "      <th>genres</th>\n",
       "      <th>Overview</th>\n",
       "    </tr>\n",
       "  </thead>\n",
       "  <tbody>\n",
       "    <tr>\n",
       "      <th>0</th>\n",
       "      <td>1</td>\n",
       "      <td>223</td>\n",
       "      <td>4.0</td>\n",
       "      <td>2005-04-02 23:46:13</td>\n",
       "      <td>Clerks</td>\n",
       "      <td>Comedy</td>\n",
       "      <td>A day in the lives of two convenience clerks n...</td>\n",
       "    </tr>\n",
       "    <tr>\n",
       "      <th>1</th>\n",
       "      <td>1</td>\n",
       "      <td>2959</td>\n",
       "      <td>4.0</td>\n",
       "      <td>2004-09-10 03:08:18</td>\n",
       "      <td>Fight Club</td>\n",
       "      <td>Action|Crime|Drama|Thriller</td>\n",
       "      <td>An insomniac office worker and a devil-may-car...</td>\n",
       "    </tr>\n",
       "    <tr>\n",
       "      <th>2</th>\n",
       "      <td>1</td>\n",
       "      <td>3499</td>\n",
       "      <td>4.0</td>\n",
       "      <td>2005-04-02 23:35:18</td>\n",
       "      <td>Misery</td>\n",
       "      <td>Drama|Horror|Thriller</td>\n",
       "      <td>After a famous author is rescued from a car cr...</td>\n",
       "    </tr>\n",
       "    <tr>\n",
       "      <th>3</th>\n",
       "      <td>1</td>\n",
       "      <td>4011</td>\n",
       "      <td>4.0</td>\n",
       "      <td>2005-04-02 23:43:26</td>\n",
       "      <td>Snatch</td>\n",
       "      <td>Comedy|Crime|Thriller</td>\n",
       "      <td>Unscrupulous boxing promoters, violent bookmak...</td>\n",
       "    </tr>\n",
       "    <tr>\n",
       "      <th>4</th>\n",
       "      <td>1</td>\n",
       "      <td>4027</td>\n",
       "      <td>4.0</td>\n",
       "      <td>2005-04-02 23:44:20</td>\n",
       "      <td>O Brother, Where Art Thou?</td>\n",
       "      <td>Adventure|Comedy|Crime</td>\n",
       "      <td>In the deep south during the 1930s, three esca...</td>\n",
       "    </tr>\n",
       "  </tbody>\n",
       "</table>\n",
       "</div>"
      ],
      "text/plain": [
       "   userId  movieId  rating            timestamp                       title  \\\n",
       "0       1      223     4.0  2005-04-02 23:46:13                      Clerks   \n",
       "1       1     2959     4.0  2004-09-10 03:08:18                  Fight Club   \n",
       "2       1     3499     4.0  2005-04-02 23:35:18                      Misery   \n",
       "3       1     4011     4.0  2005-04-02 23:43:26                      Snatch   \n",
       "4       1     4027     4.0  2005-04-02 23:44:20  O Brother, Where Art Thou?   \n",
       "\n",
       "                        genres  \\\n",
       "0                       Comedy   \n",
       "1  Action|Crime|Drama|Thriller   \n",
       "2        Drama|Horror|Thriller   \n",
       "3        Comedy|Crime|Thriller   \n",
       "4       Adventure|Comedy|Crime   \n",
       "\n",
       "                                            Overview  \n",
       "0  A day in the lives of two convenience clerks n...  \n",
       "1  An insomniac office worker and a devil-may-car...  \n",
       "2  After a famous author is rescued from a car cr...  \n",
       "3  Unscrupulous boxing promoters, violent bookmak...  \n",
       "4  In the deep south during the 1930s, three esca...  "
      ]
     },
     "execution_count": 3,
     "metadata": {},
     "output_type": "execute_result"
    }
   ],
   "source": [
    "df.head()"
   ]
  },
  {
   "cell_type": "code",
   "execution_count": 4,
   "id": "70db86ef",
   "metadata": {},
   "outputs": [
    {
     "data": {
      "text/plain": [
       "(4437943, 7)"
      ]
     },
     "execution_count": 4,
     "metadata": {},
     "output_type": "execute_result"
    }
   ],
   "source": [
    "df.shape"
   ]
  },
  {
   "cell_type": "code",
   "execution_count": 5,
   "id": "dcd1ee53",
   "metadata": {},
   "outputs": [
    {
     "data": {
      "text/plain": [
       "userId       0\n",
       "movieId      0\n",
       "rating       0\n",
       "timestamp    0\n",
       "title        0\n",
       "genres       0\n",
       "Overview     0\n",
       "dtype: int64"
      ]
     },
     "execution_count": 5,
     "metadata": {},
     "output_type": "execute_result"
    }
   ],
   "source": [
    "df.isnull().sum()"
   ]
  },
  {
   "cell_type": "code",
   "execution_count": 6,
   "id": "fdfc2652",
   "metadata": {},
   "outputs": [
    {
     "name": "stdout",
     "output_type": "stream",
     "text": [
      "<class 'pandas.core.frame.DataFrame'>\n",
      "RangeIndex: 4437943 entries, 0 to 4437942\n",
      "Data columns (total 7 columns):\n",
      " #   Column     Dtype  \n",
      "---  ------     -----  \n",
      " 0   userId     int64  \n",
      " 1   movieId    int64  \n",
      " 2   rating     float64\n",
      " 3   timestamp  object \n",
      " 4   title      object \n",
      " 5   genres     object \n",
      " 6   Overview   object \n",
      "dtypes: float64(1), int64(2), object(4)\n",
      "memory usage: 237.0+ MB\n"
     ]
    }
   ],
   "source": [
    "df.info()"
   ]
  },
  {
   "cell_type": "markdown",
   "id": "3ee347bf",
   "metadata": {},
   "source": [
    "### TF-IDF"
   ]
  },
  {
   "cell_type": "code",
   "execution_count": 7,
   "id": "66db0611",
   "metadata": {},
   "outputs": [],
   "source": [
    "df_tf = df.copy()"
   ]
  },
  {
   "cell_type": "code",
   "execution_count": 8,
   "id": "f5c87c90",
   "metadata": {},
   "outputs": [
    {
     "data": {
      "text/plain": [
       "(4437943, 7)"
      ]
     },
     "execution_count": 8,
     "metadata": {},
     "output_type": "execute_result"
    }
   ],
   "source": [
    "df_tf.shape"
   ]
  },
  {
   "cell_type": "code",
   "execution_count": 9,
   "id": "df81439a",
   "metadata": {},
   "outputs": [
    {
     "data": {
      "text/plain": [
       "Index(['userId', 'movieId', 'rating', 'timestamp', 'title', 'genres',\n",
       "       'Overview'],\n",
       "      dtype='object')"
      ]
     },
     "execution_count": 9,
     "metadata": {},
     "output_type": "execute_result"
    }
   ],
   "source": [
    "df_tf.columns"
   ]
  },
  {
   "cell_type": "code",
   "execution_count": 10,
   "id": "15ed5563",
   "metadata": {},
   "outputs": [],
   "source": [
    "df_tf1 = df_tf[['movieId','title','genres']]"
   ]
  },
  {
   "cell_type": "code",
   "execution_count": 11,
   "id": "cb18bbeb",
   "metadata": {},
   "outputs": [
    {
     "data": {
      "text/html": [
       "<div>\n",
       "<style scoped>\n",
       "    .dataframe tbody tr th:only-of-type {\n",
       "        vertical-align: middle;\n",
       "    }\n",
       "\n",
       "    .dataframe tbody tr th {\n",
       "        vertical-align: top;\n",
       "    }\n",
       "\n",
       "    .dataframe thead th {\n",
       "        text-align: right;\n",
       "    }\n",
       "</style>\n",
       "<table border=\"1\" class=\"dataframe\">\n",
       "  <thead>\n",
       "    <tr style=\"text-align: right;\">\n",
       "      <th></th>\n",
       "      <th>movieId</th>\n",
       "      <th>title</th>\n",
       "      <th>genres</th>\n",
       "    </tr>\n",
       "  </thead>\n",
       "  <tbody>\n",
       "    <tr>\n",
       "      <th>0</th>\n",
       "      <td>223</td>\n",
       "      <td>Clerks</td>\n",
       "      <td>Comedy</td>\n",
       "    </tr>\n",
       "    <tr>\n",
       "      <th>1</th>\n",
       "      <td>2959</td>\n",
       "      <td>Fight Club</td>\n",
       "      <td>Action|Crime|Drama|Thriller</td>\n",
       "    </tr>\n",
       "    <tr>\n",
       "      <th>2</th>\n",
       "      <td>3499</td>\n",
       "      <td>Misery</td>\n",
       "      <td>Drama|Horror|Thriller</td>\n",
       "    </tr>\n",
       "    <tr>\n",
       "      <th>3</th>\n",
       "      <td>4011</td>\n",
       "      <td>Snatch</td>\n",
       "      <td>Comedy|Crime|Thriller</td>\n",
       "    </tr>\n",
       "    <tr>\n",
       "      <th>4</th>\n",
       "      <td>4027</td>\n",
       "      <td>O Brother, Where Art Thou?</td>\n",
       "      <td>Adventure|Comedy|Crime</td>\n",
       "    </tr>\n",
       "  </tbody>\n",
       "</table>\n",
       "</div>"
      ],
      "text/plain": [
       "   movieId                       title                       genres\n",
       "0      223                      Clerks                       Comedy\n",
       "1     2959                  Fight Club  Action|Crime|Drama|Thriller\n",
       "2     3499                      Misery        Drama|Horror|Thriller\n",
       "3     4011                      Snatch        Comedy|Crime|Thriller\n",
       "4     4027  O Brother, Where Art Thou?       Adventure|Comedy|Crime"
      ]
     },
     "execution_count": 11,
     "metadata": {},
     "output_type": "execute_result"
    }
   ],
   "source": [
    "df_tf1.head()"
   ]
  },
  {
   "cell_type": "code",
   "execution_count": 12,
   "id": "eb9b483b",
   "metadata": {},
   "outputs": [
    {
     "data": {
      "text/plain": [
       "(4437943, 3)"
      ]
     },
     "execution_count": 12,
     "metadata": {},
     "output_type": "execute_result"
    }
   ],
   "source": [
    "df_tf1.shape"
   ]
  },
  {
   "cell_type": "code",
   "execution_count": 13,
   "id": "71047736",
   "metadata": {},
   "outputs": [],
   "source": [
    "df_tf1 = df_tf1.drop_duplicates()"
   ]
  },
  {
   "cell_type": "code",
   "execution_count": 14,
   "id": "8534c11e",
   "metadata": {},
   "outputs": [
    {
     "data": {
      "text/plain": [
       "(479, 3)"
      ]
     },
     "execution_count": 14,
     "metadata": {},
     "output_type": "execute_result"
    }
   ],
   "source": [
    "df_tf1.shape"
   ]
  },
  {
   "cell_type": "code",
   "execution_count": 15,
   "id": "ea4fb914",
   "metadata": {},
   "outputs": [
    {
     "data": {
      "text/html": [
       "<div>\n",
       "<style scoped>\n",
       "    .dataframe tbody tr th:only-of-type {\n",
       "        vertical-align: middle;\n",
       "    }\n",
       "\n",
       "    .dataframe tbody tr th {\n",
       "        vertical-align: top;\n",
       "    }\n",
       "\n",
       "    .dataframe thead th {\n",
       "        text-align: right;\n",
       "    }\n",
       "</style>\n",
       "<table border=\"1\" class=\"dataframe\">\n",
       "  <thead>\n",
       "    <tr style=\"text-align: right;\">\n",
       "      <th></th>\n",
       "      <th>movieId</th>\n",
       "      <th>title</th>\n",
       "      <th>genres</th>\n",
       "    </tr>\n",
       "  </thead>\n",
       "  <tbody>\n",
       "    <tr>\n",
       "      <th>0</th>\n",
       "      <td>223</td>\n",
       "      <td>Clerks</td>\n",
       "      <td>Comedy</td>\n",
       "    </tr>\n",
       "    <tr>\n",
       "      <th>1</th>\n",
       "      <td>2959</td>\n",
       "      <td>Fight Club</td>\n",
       "      <td>Action|Crime|Drama|Thriller</td>\n",
       "    </tr>\n",
       "    <tr>\n",
       "      <th>2</th>\n",
       "      <td>3499</td>\n",
       "      <td>Misery</td>\n",
       "      <td>Drama|Horror|Thriller</td>\n",
       "    </tr>\n",
       "    <tr>\n",
       "      <th>3</th>\n",
       "      <td>4011</td>\n",
       "      <td>Snatch</td>\n",
       "      <td>Comedy|Crime|Thriller</td>\n",
       "    </tr>\n",
       "    <tr>\n",
       "      <th>4</th>\n",
       "      <td>4027</td>\n",
       "      <td>O Brother, Where Art Thou?</td>\n",
       "      <td>Adventure|Comedy|Crime</td>\n",
       "    </tr>\n",
       "  </tbody>\n",
       "</table>\n",
       "</div>"
      ],
      "text/plain": [
       "   movieId                       title                       genres\n",
       "0      223                      Clerks                       Comedy\n",
       "1     2959                  Fight Club  Action|Crime|Drama|Thriller\n",
       "2     3499                      Misery        Drama|Horror|Thriller\n",
       "3     4011                      Snatch        Comedy|Crime|Thriller\n",
       "4     4027  O Brother, Where Art Thou?       Adventure|Comedy|Crime"
      ]
     },
     "execution_count": 15,
     "metadata": {},
     "output_type": "execute_result"
    }
   ],
   "source": [
    "df_tf1.head()"
   ]
  },
  {
   "cell_type": "code",
   "execution_count": 16,
   "id": "9c29de42",
   "metadata": {},
   "outputs": [],
   "source": [
    "from sklearn.feature_extraction.text import TfidfVectorizer\n",
    "from itertools import combinations"
   ]
  },
  {
   "cell_type": "markdown",
   "id": "3069536b",
   "metadata": {},
   "source": [
    "Here we're finding the sets of combinations of genres up to k (4 here), or in mathematical terms, the superset."
   ]
  },
  {
   "cell_type": "code",
   "execution_count": 17,
   "id": "2fa5a6cd",
   "metadata": {},
   "outputs": [
    {
     "data": {
      "text/plain": [
       "(479, 414)"
      ]
     },
     "execution_count": 17,
     "metadata": {},
     "output_type": "execute_result"
    }
   ],
   "source": [
    "tf = TfidfVectorizer(analyzer=lambda s: (c for i in range(1,4)\n",
    "                                             for c in combinations(s.split('|'), r=i)))\n",
    "tfidf_matrix = tf.fit_transform(df_tf1['genres'])\n",
    "tfidf_matrix.shape"
   ]
  },
  {
   "cell_type": "markdown",
   "id": "d37a6794",
   "metadata": {},
   "source": [
    "Results in the following tf-idf vectors (note that only a subset of the columns and rows is sampled)"
   ]
  },
  {
   "cell_type": "code",
   "execution_count": 18,
   "id": "fe4b6f79",
   "metadata": {},
   "outputs": [
    {
     "data": {
      "text/html": [
       "<div>\n",
       "<style scoped>\n",
       "    .dataframe tbody tr th:only-of-type {\n",
       "        vertical-align: middle;\n",
       "    }\n",
       "\n",
       "    .dataframe tbody tr th {\n",
       "        vertical-align: top;\n",
       "    }\n",
       "\n",
       "    .dataframe thead th {\n",
       "        text-align: right;\n",
       "    }\n",
       "</style>\n",
       "<table border=\"1\" class=\"dataframe\">\n",
       "  <thead>\n",
       "    <tr style=\"text-align: right;\">\n",
       "      <th></th>\n",
       "      <th>(Action, Crime)</th>\n",
       "      <th>(Adventure, Children, Romance)</th>\n",
       "      <th>(Comedy, Musical, War)</th>\n",
       "      <th>(Adventure, War)</th>\n",
       "      <th>(Drama, Fantasy, Musical)</th>\n",
       "    </tr>\n",
       "    <tr>\n",
       "      <th>title</th>\n",
       "      <th></th>\n",
       "      <th></th>\n",
       "      <th></th>\n",
       "      <th></th>\n",
       "      <th></th>\n",
       "    </tr>\n",
       "  </thead>\n",
       "  <tbody>\n",
       "    <tr>\n",
       "      <th>Joker</th>\n",
       "      <td>0.0</td>\n",
       "      <td>0.00000</td>\n",
       "      <td>0.0</td>\n",
       "      <td>0.0</td>\n",
       "      <td>0.0</td>\n",
       "    </tr>\n",
       "    <tr>\n",
       "      <th>Sweet Smell of Success</th>\n",
       "      <td>0.0</td>\n",
       "      <td>0.00000</td>\n",
       "      <td>0.0</td>\n",
       "      <td>0.0</td>\n",
       "      <td>0.0</td>\n",
       "    </tr>\n",
       "    <tr>\n",
       "      <th>Inherit the Wind</th>\n",
       "      <td>0.0</td>\n",
       "      <td>0.00000</td>\n",
       "      <td>0.0</td>\n",
       "      <td>0.0</td>\n",
       "      <td>0.0</td>\n",
       "    </tr>\n",
       "    <tr>\n",
       "      <th>End of Watch</th>\n",
       "      <td>0.0</td>\n",
       "      <td>0.00000</td>\n",
       "      <td>0.0</td>\n",
       "      <td>0.0</td>\n",
       "      <td>0.0</td>\n",
       "    </tr>\n",
       "    <tr>\n",
       "      <th>White Heat</th>\n",
       "      <td>0.0</td>\n",
       "      <td>0.00000</td>\n",
       "      <td>0.0</td>\n",
       "      <td>0.0</td>\n",
       "      <td>0.0</td>\n",
       "    </tr>\n",
       "    <tr>\n",
       "      <th>Shrek</th>\n",
       "      <td>0.0</td>\n",
       "      <td>0.19196</td>\n",
       "      <td>0.0</td>\n",
       "      <td>0.0</td>\n",
       "      <td>0.0</td>\n",
       "    </tr>\n",
       "    <tr>\n",
       "      <th>Kal Ho Naa Ho</th>\n",
       "      <td>0.0</td>\n",
       "      <td>0.00000</td>\n",
       "      <td>0.0</td>\n",
       "      <td>0.0</td>\n",
       "      <td>0.0</td>\n",
       "    </tr>\n",
       "    <tr>\n",
       "      <th>Ferris Bueller's Day Off</th>\n",
       "      <td>0.0</td>\n",
       "      <td>0.00000</td>\n",
       "      <td>0.0</td>\n",
       "      <td>0.0</td>\n",
       "      <td>0.0</td>\n",
       "    </tr>\n",
       "    <tr>\n",
       "      <th>Magnolia</th>\n",
       "      <td>0.0</td>\n",
       "      <td>0.00000</td>\n",
       "      <td>0.0</td>\n",
       "      <td>0.0</td>\n",
       "      <td>0.0</td>\n",
       "    </tr>\n",
       "    <tr>\n",
       "      <th>Kagemusha</th>\n",
       "      <td>0.0</td>\n",
       "      <td>0.00000</td>\n",
       "      <td>0.0</td>\n",
       "      <td>0.0</td>\n",
       "      <td>0.0</td>\n",
       "    </tr>\n",
       "  </tbody>\n",
       "</table>\n",
       "</div>"
      ],
      "text/plain": [
       "                          (Action, Crime)  (Adventure, Children, Romance)  \\\n",
       "title                                                                       \n",
       "Joker                                 0.0                         0.00000   \n",
       "Sweet Smell of Success                0.0                         0.00000   \n",
       "Inherit the Wind                      0.0                         0.00000   \n",
       "End of Watch                          0.0                         0.00000   \n",
       "White Heat                            0.0                         0.00000   \n",
       "Shrek                                 0.0                         0.19196   \n",
       "Kal Ho Naa Ho                         0.0                         0.00000   \n",
       "Ferris Bueller's Day Off              0.0                         0.00000   \n",
       "Magnolia                              0.0                         0.00000   \n",
       "Kagemusha                             0.0                         0.00000   \n",
       "\n",
       "                          (Comedy, Musical, War)  (Adventure, War)  \\\n",
       "title                                                                \n",
       "Joker                                        0.0               0.0   \n",
       "Sweet Smell of Success                       0.0               0.0   \n",
       "Inherit the Wind                             0.0               0.0   \n",
       "End of Watch                                 0.0               0.0   \n",
       "White Heat                                   0.0               0.0   \n",
       "Shrek                                        0.0               0.0   \n",
       "Kal Ho Naa Ho                                0.0               0.0   \n",
       "Ferris Bueller's Day Off                     0.0               0.0   \n",
       "Magnolia                                     0.0               0.0   \n",
       "Kagemusha                                    0.0               0.0   \n",
       "\n",
       "                          (Drama, Fantasy, Musical)  \n",
       "title                                                \n",
       "Joker                                           0.0  \n",
       "Sweet Smell of Success                          0.0  \n",
       "Inherit the Wind                                0.0  \n",
       "End of Watch                                    0.0  \n",
       "White Heat                                      0.0  \n",
       "Shrek                                           0.0  \n",
       "Kal Ho Naa Ho                                   0.0  \n",
       "Ferris Bueller's Day Off                        0.0  \n",
       "Magnolia                                        0.0  \n",
       "Kagemusha                                       0.0  "
      ]
     },
     "execution_count": 18,
     "metadata": {},
     "output_type": "execute_result"
    }
   ],
   "source": [
    "pd.DataFrame(tfidf_matrix.todense(), columns=tf.get_feature_names_out() ,   index=df_tf1.title).sample(5, axis=1).sample(10, axis=0)"
   ]
  },
  {
   "cell_type": "markdown",
   "id": "b58d9774",
   "metadata": {},
   "source": [
    "Compute the cosine similarities between all tf-idf vectors"
   ]
  },
  {
   "cell_type": "code",
   "execution_count": 19,
   "id": "e9cc0b8d",
   "metadata": {},
   "outputs": [],
   "source": [
    "from sklearn.metrics.pairwise import cosine_similarity\n",
    "cosine_sim = cosine_similarity(tfidf_matrix)"
   ]
  },
  {
   "cell_type": "code",
   "execution_count": 20,
   "id": "cc0b666d",
   "metadata": {},
   "outputs": [
    {
     "name": "stdout",
     "output_type": "stream",
     "text": [
      "Shape: (479, 479)\n"
     ]
    },
    {
     "data": {
      "text/html": [
       "<div>\n",
       "<style scoped>\n",
       "    .dataframe tbody tr th:only-of-type {\n",
       "        vertical-align: middle;\n",
       "    }\n",
       "\n",
       "    .dataframe tbody tr th {\n",
       "        vertical-align: top;\n",
       "    }\n",
       "\n",
       "    .dataframe thead th {\n",
       "        text-align: right;\n",
       "    }\n",
       "</style>\n",
       "<table border=\"1\" class=\"dataframe\">\n",
       "  <thead>\n",
       "    <tr style=\"text-align: right;\">\n",
       "      <th>title</th>\n",
       "      <th>Breaking the Waves</th>\n",
       "      <th>Once</th>\n",
       "      <th>Judgment at Nuremberg</th>\n",
       "      <th>Do the Right Thing</th>\n",
       "      <th>Braveheart</th>\n",
       "    </tr>\n",
       "    <tr>\n",
       "      <th>title</th>\n",
       "      <th></th>\n",
       "      <th></th>\n",
       "      <th></th>\n",
       "      <th></th>\n",
       "      <th></th>\n",
       "    </tr>\n",
       "  </thead>\n",
       "  <tbody>\n",
       "    <tr>\n",
       "      <th>Clerks</th>\n",
       "      <td>0.00</td>\n",
       "      <td>0.00</td>\n",
       "      <td>0.00</td>\n",
       "      <td>0.00</td>\n",
       "      <td>0.00</td>\n",
       "    </tr>\n",
       "    <tr>\n",
       "      <th>Fight Club</th>\n",
       "      <td>0.03</td>\n",
       "      <td>0.01</td>\n",
       "      <td>0.11</td>\n",
       "      <td>0.11</td>\n",
       "      <td>0.18</td>\n",
       "    </tr>\n",
       "    <tr>\n",
       "      <th>Misery</th>\n",
       "      <td>0.04</td>\n",
       "      <td>0.02</td>\n",
       "      <td>0.13</td>\n",
       "      <td>0.13</td>\n",
       "      <td>0.02</td>\n",
       "    </tr>\n",
       "    <tr>\n",
       "      <th>Snatch</th>\n",
       "      <td>0.00</td>\n",
       "      <td>0.00</td>\n",
       "      <td>0.00</td>\n",
       "      <td>0.00</td>\n",
       "      <td>0.00</td>\n",
       "    </tr>\n",
       "    <tr>\n",
       "      <th>O Brother, Where Art Thou?</th>\n",
       "      <td>0.00</td>\n",
       "      <td>0.00</td>\n",
       "      <td>0.00</td>\n",
       "      <td>0.00</td>\n",
       "      <td>0.00</td>\n",
       "    </tr>\n",
       "    <tr>\n",
       "      <th>...</th>\n",
       "      <td>...</td>\n",
       "      <td>...</td>\n",
       "      <td>...</td>\n",
       "      <td>...</td>\n",
       "      <td>...</td>\n",
       "    </tr>\n",
       "    <tr>\n",
       "      <th>Haider</th>\n",
       "      <td>0.04</td>\n",
       "      <td>0.18</td>\n",
       "      <td>0.15</td>\n",
       "      <td>0.15</td>\n",
       "      <td>0.02</td>\n",
       "    </tr>\n",
       "    <tr>\n",
       "      <th>Me and Earl and the Dying Girl</th>\n",
       "      <td>0.27</td>\n",
       "      <td>0.13</td>\n",
       "      <td>1.00</td>\n",
       "      <td>1.00</td>\n",
       "      <td>0.15</td>\n",
       "    </tr>\n",
       "    <tr>\n",
       "      <th>Black</th>\n",
       "      <td>0.27</td>\n",
       "      <td>0.13</td>\n",
       "      <td>1.00</td>\n",
       "      <td>1.00</td>\n",
       "      <td>0.15</td>\n",
       "    </tr>\n",
       "    <tr>\n",
       "      <th>Joker</th>\n",
       "      <td>0.00</td>\n",
       "      <td>0.00</td>\n",
       "      <td>0.00</td>\n",
       "      <td>0.00</td>\n",
       "      <td>0.00</td>\n",
       "    </tr>\n",
       "    <tr>\n",
       "      <th>Drishyam</th>\n",
       "      <td>0.03</td>\n",
       "      <td>0.02</td>\n",
       "      <td>0.12</td>\n",
       "      <td>0.12</td>\n",
       "      <td>0.02</td>\n",
       "    </tr>\n",
       "  </tbody>\n",
       "</table>\n",
       "<p>479 rows × 5 columns</p>\n",
       "</div>"
      ],
      "text/plain": [
       "title                           Breaking the Waves  Once  \\\n",
       "title                                                      \n",
       "Clerks                                        0.00  0.00   \n",
       "Fight Club                                    0.03  0.01   \n",
       "Misery                                        0.04  0.02   \n",
       "Snatch                                        0.00  0.00   \n",
       "O Brother, Where Art Thou?                    0.00  0.00   \n",
       "...                                            ...   ...   \n",
       "Haider                                        0.04  0.18   \n",
       "Me and Earl and the Dying Girl                0.27  0.13   \n",
       "Black                                         0.27  0.13   \n",
       "Joker                                         0.00  0.00   \n",
       "Drishyam                                      0.03  0.02   \n",
       "\n",
       "title                           Judgment at Nuremberg  Do the Right Thing  \\\n",
       "title                                                                       \n",
       "Clerks                                           0.00                0.00   \n",
       "Fight Club                                       0.11                0.11   \n",
       "Misery                                           0.13                0.13   \n",
       "Snatch                                           0.00                0.00   \n",
       "O Brother, Where Art Thou?                       0.00                0.00   \n",
       "...                                               ...                 ...   \n",
       "Haider                                           0.15                0.15   \n",
       "Me and Earl and the Dying Girl                   1.00                1.00   \n",
       "Black                                            1.00                1.00   \n",
       "Joker                                            0.00                0.00   \n",
       "Drishyam                                         0.12                0.12   \n",
       "\n",
       "title                           Braveheart  \n",
       "title                                       \n",
       "Clerks                                0.00  \n",
       "Fight Club                            0.18  \n",
       "Misery                                0.02  \n",
       "Snatch                                0.00  \n",
       "O Brother, Where Art Thou?            0.00  \n",
       "...                                    ...  \n",
       "Haider                                0.02  \n",
       "Me and Earl and the Dying Girl        0.15  \n",
       "Black                                 0.15  \n",
       "Joker                                 0.00  \n",
       "Drishyam                              0.02  \n",
       "\n",
       "[479 rows x 5 columns]"
      ]
     },
     "execution_count": 20,
     "metadata": {},
     "output_type": "execute_result"
    }
   ],
   "source": [
    "cosine_sim_df = pd.DataFrame(cosine_sim, index=df_tf1['title'], columns=df_tf1['title'])\n",
    "print('Shape:', cosine_sim_df.shape)\n",
    "cosine_sim_df.sample(5, axis=1).round(2)"
   ]
  },
  {
   "cell_type": "markdown",
   "id": "7a180c46",
   "metadata": {},
   "source": [
    "Using argpartition we take the k highest values in M(similarity matrix) on a given index (movie) i . We then index on the columns in M , and further slice to get from highest weights to lowest."
   ]
  },
  {
   "cell_type": "code",
   "execution_count": 21,
   "id": "28122c5a",
   "metadata": {},
   "outputs": [],
   "source": [
    "def genre_recommendations(i, M, items, k=10):\n",
    "    \"\"\"\n",
    "    Recommends movies based on a similarity dataframe\n",
    "\n",
    "    Parameters\n",
    "    ----------\n",
    "    i : str\n",
    "        Movie (index of the similarity dataframe)\n",
    "    M : pd.DataFrame\n",
    "        Similarity dataframe, symmetric, with movies as indices and columns\n",
    "    items : pd.DataFrame\n",
    "        Contains both the title and some other features used to define similarity\n",
    "    k : int\n",
    "        Amount of recommendations to return\n",
    "\n",
    "    \"\"\"\n",
    "    ix = M.loc[:,i].to_numpy().argpartition(range(-1,-k,-1))\n",
    "    closest = M.columns[ix[-1:-(k+2):-1]]\n",
    "    closest = closest.drop(i, errors='ignore')\n",
    "    return pd.DataFrame(closest).merge(items).head(k)"
   ]
  },
  {
   "cell_type": "markdown",
   "id": "56b7f6e5",
   "metadata": {},
   "source": [
    "Testing the recommender"
   ]
  },
  {
   "cell_type": "code",
   "execution_count": 22,
   "id": "c8aa0a8a",
   "metadata": {},
   "outputs": [
    {
     "data": {
      "text/html": [
       "<div>\n",
       "<style scoped>\n",
       "    .dataframe tbody tr th:only-of-type {\n",
       "        vertical-align: middle;\n",
       "    }\n",
       "\n",
       "    .dataframe tbody tr th {\n",
       "        vertical-align: top;\n",
       "    }\n",
       "\n",
       "    .dataframe thead th {\n",
       "        text-align: right;\n",
       "    }\n",
       "</style>\n",
       "<table border=\"1\" class=\"dataframe\">\n",
       "  <thead>\n",
       "    <tr style=\"text-align: right;\">\n",
       "      <th></th>\n",
       "      <th>movieId</th>\n",
       "      <th>title</th>\n",
       "      <th>genres</th>\n",
       "    </tr>\n",
       "  </thead>\n",
       "  <tbody>\n",
       "    <tr>\n",
       "      <th>1</th>\n",
       "      <td>2959</td>\n",
       "      <td>Fight Club</td>\n",
       "      <td>Action|Crime|Drama|Thriller</td>\n",
       "    </tr>\n",
       "  </tbody>\n",
       "</table>\n",
       "</div>"
      ],
      "text/plain": [
       "   movieId       title                       genres\n",
       "1     2959  Fight Club  Action|Crime|Drama|Thriller"
      ]
     },
     "execution_count": 22,
     "metadata": {},
     "output_type": "execute_result"
    }
   ],
   "source": [
    "df_tf1[df_tf1.title.eq('Fight Club')]"
   ]
  },
  {
   "cell_type": "code",
   "execution_count": 23,
   "id": "2f11b1a3",
   "metadata": {},
   "outputs": [
    {
     "data": {
      "text/html": [
       "<div>\n",
       "<style scoped>\n",
       "    .dataframe tbody tr th:only-of-type {\n",
       "        vertical-align: middle;\n",
       "    }\n",
       "\n",
       "    .dataframe tbody tr th {\n",
       "        vertical-align: top;\n",
       "    }\n",
       "\n",
       "    .dataframe thead th {\n",
       "        text-align: right;\n",
       "    }\n",
       "</style>\n",
       "<table border=\"1\" class=\"dataframe\">\n",
       "  <thead>\n",
       "    <tr style=\"text-align: right;\">\n",
       "      <th></th>\n",
       "      <th>title</th>\n",
       "      <th>genres</th>\n",
       "    </tr>\n",
       "  </thead>\n",
       "  <tbody>\n",
       "    <tr>\n",
       "      <th>0</th>\n",
       "      <td>The Dark Knight</td>\n",
       "      <td>Action|Crime|Drama|Thriller</td>\n",
       "    </tr>\n",
       "    <tr>\n",
       "      <th>1</th>\n",
       "      <td>Taken</td>\n",
       "      <td>Action|Crime|Drama|Thriller</td>\n",
       "    </tr>\n",
       "    <tr>\n",
       "      <th>2</th>\n",
       "      <td>Kill Bill: Vol. 1</td>\n",
       "      <td>Action|Crime|Thriller</td>\n",
       "    </tr>\n",
       "    <tr>\n",
       "      <th>3</th>\n",
       "      <td>Die Hard</td>\n",
       "      <td>Action|Crime|Thriller</td>\n",
       "    </tr>\n",
       "    <tr>\n",
       "      <th>4</th>\n",
       "      <td>Dirty Harry</td>\n",
       "      <td>Action|Crime|Thriller</td>\n",
       "    </tr>\n",
       "    <tr>\n",
       "      <th>5</th>\n",
       "      <td>Heat</td>\n",
       "      <td>Action|Crime|Thriller</td>\n",
       "    </tr>\n",
       "    <tr>\n",
       "      <th>6</th>\n",
       "      <td>Die Hard: With a Vengeance</td>\n",
       "      <td>Action|Crime|Thriller</td>\n",
       "    </tr>\n",
       "    <tr>\n",
       "      <th>7</th>\n",
       "      <td>Scarface</td>\n",
       "      <td>Action|Crime|Drama</td>\n",
       "    </tr>\n",
       "    <tr>\n",
       "      <th>8</th>\n",
       "      <td>Man on Fire</td>\n",
       "      <td>Action|Crime|Drama|Mystery|Thriller</td>\n",
       "    </tr>\n",
       "    <tr>\n",
       "      <th>9</th>\n",
       "      <td>Mississippi Burning</td>\n",
       "      <td>Crime|Drama|Thriller</td>\n",
       "    </tr>\n",
       "  </tbody>\n",
       "</table>\n",
       "</div>"
      ],
      "text/plain": [
       "                        title                               genres\n",
       "0             The Dark Knight          Action|Crime|Drama|Thriller\n",
       "1                       Taken          Action|Crime|Drama|Thriller\n",
       "2           Kill Bill: Vol. 1                Action|Crime|Thriller\n",
       "3                    Die Hard                Action|Crime|Thriller\n",
       "4                 Dirty Harry                Action|Crime|Thriller\n",
       "5                        Heat                Action|Crime|Thriller\n",
       "6  Die Hard: With a Vengeance                Action|Crime|Thriller\n",
       "7                    Scarface                   Action|Crime|Drama\n",
       "8                 Man on Fire  Action|Crime|Drama|Mystery|Thriller\n",
       "9         Mississippi Burning                 Crime|Drama|Thriller"
      ]
     },
     "execution_count": 23,
     "metadata": {},
     "output_type": "execute_result"
    }
   ],
   "source": [
    "genre_recommendations('Fight Club', cosine_sim_df, df_tf1[['title', 'genres']])"
   ]
  },
  {
   "cell_type": "code",
   "execution_count": null,
   "id": "da28da3a",
   "metadata": {},
   "outputs": [],
   "source": []
  }
 ],
 "metadata": {
  "kernelspec": {
   "display_name": "Python 3 (ipykernel)",
   "language": "python",
   "name": "python3"
  },
  "language_info": {
   "codemirror_mode": {
    "name": "ipython",
    "version": 3
   },
   "file_extension": ".py",
   "mimetype": "text/x-python",
   "name": "python",
   "nbconvert_exporter": "python",
   "pygments_lexer": "ipython3",
   "version": "3.9.16"
  }
 },
 "nbformat": 4,
 "nbformat_minor": 5
}
